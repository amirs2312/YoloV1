{
 "cells": [
  {
   "cell_type": "markdown",
   "metadata": {},
   "source": [
    "# Loading and prepping the dataset"
   ]
  },
  {
   "cell_type": "code",
   "execution_count": 2,
   "metadata": {},
   "outputs": [],
   "source": [
    "import torch\n",
    "import os\n",
    "import pandas as pd\n",
    "from PIL import Image\n"
   ]
  },
  {
   "cell_type": "code",
   "execution_count": 5,
   "metadata": {},
   "outputs": [],
   "source": [
    "class VOCDataset(torch.utils.data.Dataset):\n",
    "    def __init__(self, csv_file, img_dir, label_dir, S=7, B=2, C=20, transform = None):\n",
    "\n",
    "        self.annotations = pd.read_csv(csv_file)\n",
    "        self.img_dir = img_dir\n",
    "        self.label_dir = label_dir\n",
    "        self.transform = transform\n",
    "        self.S = S\n",
    "        self.B = B\n",
    "        self.C = C\n",
    "\n",
    "\n",
    "    def __len__(self):\n",
    "        return len(self.annotations)\n",
    "    \n",
    "\n",
    "    \n",
    "    def __getitem__(self, index):\n",
    "        label_path = os.path.join(self.label_dir, self.annotations.iloc[index, 1])\n",
    "        boxes = []\n",
    "\n",
    "        with open(label_path) as f:\n",
    "            for label in f.readlines():\n",
    "\n",
    "                class_label, x, y, w, h = [float(k) if float(k) != int(float(k)) else int(k)\n",
    "                                           for k in label.replace(\"\\n\", \"\").split()]\n",
    "\n",
    "                boxes.append([class_label, x, y, w, h])\n",
    "\n",
    "\n",
    "        img_path = os.path.join(self.img_dir, self.annotations.iloc[index, 0])\n",
    "        image = Image.open(img_path)\n",
    "        boxes = torch.tensor(boxes)\n",
    "\n",
    "        if self.transform:\n",
    "            image, boxes = self.transform(image, boxes)\n",
    "\n",
    "        label_matrix = torch.zeros((self.S, self.S, self.C + 5*self.B))\n",
    "\n",
    "        for box in boxes:\n",
    "            class_label, x, y, w, h = box.tolist()\n",
    "            class_label = int(class_label)\n",
    "\n",
    "            i, j = int (self.S*y), int (self.S*x)\n",
    "            x_cell, y_cell = self.S*  x - j, self.S*  y - i\n",
    "\n",
    "            width_cell, height_cell = w*self.S, h*self.S\n",
    "\n",
    "            if(label_matrix[i,j,20] == 0):\n",
    "                label_matrix[i,j,20] = 1\n",
    "                box_coords = torch.tensor([x_cell, y_cell, width_cell, height_cell])\n",
    "\n",
    "                label_matrix[i,j,21:25] = box_coords\n",
    "                label_matrix[i, j, class_label] = 1\n",
    "\n",
    "        return image, label_matrix\n",
    "\n"
   ]
  }
 ],
 "metadata": {
  "kernelspec": {
   "display_name": "QRL",
   "language": "python",
   "name": "python3"
  },
  "language_info": {
   "codemirror_mode": {
    "name": "ipython",
    "version": 3
   },
   "file_extension": ".py",
   "mimetype": "text/x-python",
   "name": "python",
   "nbconvert_exporter": "python",
   "pygments_lexer": "ipython3",
   "version": "3.10.15"
  }
 },
 "nbformat": 4,
 "nbformat_minor": 2
}
